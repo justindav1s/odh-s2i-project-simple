{
 "cells": [
  {
   "cell_type": "code",
   "execution_count": 3,
   "id": "601cf1d5-44ad-4bf1-b36c-10748cab0117",
   "metadata": {},
   "outputs": [
    {
     "ename": "ModuleNotFoundError",
     "evalue": "No module named 'allcnn_90_predict_local'",
     "output_type": "error",
     "traceback": [
      "\u001b[0;31m---------------------------------------------------------------------------\u001b[0m",
      "\u001b[0;31mModuleNotFoundError\u001b[0m                       Traceback (most recent call last)",
      "\u001b[0;32m<ipython-input-3-7219ebbdce6b>\u001b[0m in \u001b[0;36m<module>\u001b[0;34m\u001b[0m\n\u001b[0;32m----> 1\u001b[0;31m \u001b[0;32mimport\u001b[0m \u001b[0mallcnn_90_predict_local\u001b[0m\u001b[0;34m.\u001b[0m\u001b[0mipynb\u001b[0m\u001b[0;34m\u001b[0m\u001b[0;34m\u001b[0m\u001b[0m\n\u001b[0m\u001b[1;32m      2\u001b[0m \u001b[0;32mdef\u001b[0m \u001b[0mpredict\u001b[0m\u001b[0;34m(\u001b[0m\u001b[0murl\u001b[0m\u001b[0;34m)\u001b[0m\u001b[0;34m:\u001b[0m\u001b[0;34m\u001b[0m\u001b[0;34m\u001b[0m\u001b[0m\n\u001b[1;32m      3\u001b[0m \u001b[0;31m#     arg = args_dict.get('arg1')\u001b[0m\u001b[0;34m\u001b[0m\u001b[0;34m\u001b[0m\u001b[0;34m\u001b[0m\u001b[0m\n\u001b[1;32m      4\u001b[0m \u001b[0;31m#     predictor(arg)\u001b[0m\u001b[0;34m\u001b[0m\u001b[0;34m\u001b[0m\u001b[0;34m\u001b[0m\u001b[0m\n\u001b[1;32m      5\u001b[0m     \u001b[0mcategories\u001b[0m \u001b[0;34m=\u001b[0m \u001b[0;34m[\u001b[0m\u001b[0;34m'airplane'\u001b[0m\u001b[0;34m,\u001b[0m \u001b[0;34m'automobile'\u001b[0m\u001b[0;34m,\u001b[0m \u001b[0;34m'bird'\u001b[0m\u001b[0;34m,\u001b[0m \u001b[0;34m'cat'\u001b[0m\u001b[0;34m,\u001b[0m \u001b[0;34m'deer'\u001b[0m\u001b[0;34m,\u001b[0m \u001b[0;34m'dog'\u001b[0m\u001b[0;34m,\u001b[0m \u001b[0;34m'frog'\u001b[0m\u001b[0;34m,\u001b[0m \u001b[0;34m'horse'\u001b[0m\u001b[0;34m,\u001b[0m \u001b[0;34m'ship'\u001b[0m\u001b[0;34m,\u001b[0m \u001b[0;34m'truck'\u001b[0m\u001b[0;34m]\u001b[0m\u001b[0;34m\u001b[0m\u001b[0;34m\u001b[0m\u001b[0m\n",
      "\u001b[0;31mModuleNotFoundError\u001b[0m: No module named 'allcnn_90_predict_local'"
     ]
    }
   ],
   "source": [
    "import allcnn_90_predict_local.ipynb\n",
    "def predict(url):\n",
    "#     arg = args_dict.get('arg1')\n",
    "#     predictor(arg)\n",
    "    categories = ['airplane', 'automobile', 'bird', 'cat', 'deer', 'dog', 'frog', 'horse', 'ship', 'truck']\n",
    "    \n",
    "    img = processImage(url)\n",
    "    best_prob, best_index, sec_best_prob, sec_best_index, thd_best_prob, thd_best_index = predictImage(url)\n",
    "    print (\"1st prediction : \"+str(categories[best_index])+\" prob : \"+'{:05.3f}'.format(best_prob))\n",
    "    print (\"2nd prediction : \"+str(categories[sec_best_index])+\" prob : \"+'{:05.3f}'.format(sec_best_prob))\n",
    "    print (\"3nd prediction : \"+str(categories[thd_best_index])+\" prob : \"+'{:05.3f}'.format(thd_best_prob))\n",
    "    return {'prediction': str(categories[best_index])}"
   ]
  },
  {
   "cell_type": "code",
   "execution_count": null,
   "id": "915f1fca-4f4f-4e52-89b4-ef73e72604c9",
   "metadata": {},
   "outputs": [],
   "source": [
    "url = \"https://jndfiles-pub.s3.eu-west-1.amazonaws.com/images/dogs/dogs-8.jpg\"\n",
    "predict(url)"
   ]
  }
 ],
 "metadata": {
  "kernelspec": {
   "display_name": "Python 3",
   "language": "python",
   "name": "python3"
  },
  "language_info": {
   "codemirror_mode": {
    "name": "ipython",
    "version": 3
   },
   "file_extension": ".py",
   "mimetype": "text/x-python",
   "name": "python",
   "nbconvert_exporter": "python",
   "pygments_lexer": "ipython3",
   "version": "3.6.8"
  }
 },
 "nbformat": 4,
 "nbformat_minor": 5
}
