{
 "cells": [
  {
   "cell_type": "code",
   "execution_count": 1,
   "metadata": {},
   "outputs": [
    {
     "name": "stdout",
     "output_type": "stream",
     "text": [
      "1st prediction : deer prob : 0.477\n",
      "2nd prediction : frog prob : 0.258\n",
      "3nd prediction : bird prob : 0.241\n"
     ]
    }
   ],
   "source": [
    "from __future__ import print_function\n",
    "import tensorflow\n",
    "import tensorflow.keras as keras\n",
    "import numpy as np\n",
    "from tensorflow.keras.models import model_from_json\n",
    "from PIL import Image\n",
    "import h5py\n",
    "from urllib.request import urlopen\n",
    "\n",
    "\n",
    "import logging\n",
    "logger = tensorflow.get_logger()\n",
    "logger.setLevel(logging.ERROR)\n",
    "\n",
    "model_json= \"allcnn_model.json\"\n",
    "model_weights= \"allcnn_weights.hdf5\"\n",
    "categories = ['airplane', 'automobile', 'bird', 'cat', 'deer', 'dog', 'frog', 'horse', 'ship', 'truck']\n",
    "\n",
    "def loadModel(json_desc, weights):\n",
    "\n",
    "    json_file = open(model_json, 'r')\n",
    "    loaded_model_json = json_file.read()\n",
    "    json_file.close()\n",
    "    \n",
    "    loaded_model = model_from_json(loaded_model_json)\n",
    "               \n",
    "    loaded_model.load_weights(model_weights)\n",
    "    return loaded_model\n",
    "    \n",
    "model = loadModel(model_json, model_weights)\n",
    "\n",
    "def transformImage(image):    \n",
    "    data = np.reshape(img, (1, 32, 32, 3))\n",
    "    data = data.astype('float32')\n",
    "    data /= 255\n",
    "    return data\n",
    "    \n",
    "def predictImage(image):\n",
    "    imgarr = np.asarray(image)\n",
    "    imaget = transformImage(imgarr)\n",
    "    result = model.predict(imaget)\n",
    "    result = result[0].tolist()\n",
    "    best_index=result.index(max(result))\n",
    "    best_prob = result[best_index]\n",
    "    \n",
    "    result[best_index] = 0    \n",
    "    sec_best_index=result.index(max(result))\n",
    "    sec_best_prob = result[sec_best_index]\n",
    "\n",
    "    result[sec_best_index] = 0    \n",
    "    thd_best_index=result.index(max(result))\n",
    "    thd_best_prob = result[thd_best_index]\n",
    "    \n",
    "    return best_prob, best_index, sec_best_prob, sec_best_index, thd_best_prob, thd_best_index\n",
    "    \n",
    "def processImage(url: str):\n",
    "    img = Image.open(urlopen(url))\n",
    "    img = img.resize((32, 32))   \n",
    "    return img;\n",
    "\n",
    "url = \"https://jndfiles-pub.s3.eu-west-1.amazonaws.com/images/dogs/dogs-8.jpg\"\n",
    "img = processImage(url)\n",
    "best_prob, best_index, sec_best_prob, sec_best_index, thd_best_prob, thd_best_index = predictImage(url)\n",
    "print (\"1st prediction : \"+str(categories[best_index])+\" prob : \"+'{:05.3f}'.format(best_prob))\n",
    "print (\"2nd prediction : \"+str(categories[sec_best_index])+\" prob : \"+'{:05.3f}'.format(sec_best_prob))\n",
    "print (\"3nd prediction : \"+str(categories[thd_best_index])+\" prob : \"+'{:05.3f}'.format(thd_best_prob))\n",
    "\n",
    "\n",
    "\n"
   ]
  },
  {
   "cell_type": "code",
   "execution_count": null,
   "metadata": {},
   "outputs": [],
   "source": []
  }
 ],
 "metadata": {
  "kernelspec": {
   "display_name": "Python 3",
   "language": "python",
   "name": "python3"
  },
  "language_info": {
   "codemirror_mode": {
    "name": "ipython",
    "version": 3
   },
   "file_extension": ".py",
   "mimetype": "text/x-python",
   "name": "python",
   "nbconvert_exporter": "python",
   "pygments_lexer": "ipython3",
   "version": "3.6.8"
  }
 },
 "nbformat": 4,
 "nbformat_minor": 4
}
